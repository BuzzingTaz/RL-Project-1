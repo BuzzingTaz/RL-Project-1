{
 "cells": [
  {
   "cell_type": "code",
   "execution_count": 17,
   "metadata": {},
   "outputs": [],
   "source": [
    "import numpy as np\n",
    "\n",
    "from system import (\n",
    "    states,\n",
    "    actions,\n",
    "    num_states,\n",
    "    num_actions,\n",
    "    wind_col,\n",
    "    to_idx,\n",
    "    get_valid_actions,\n",
    "    init_mdp,\n",
    "    init_reward,\n",
    "    rows,\n",
    "    cols,\n",
    ")\n",
    "\n",
    "from model import Model\n",
    "from policy import Policy, PolicyInit"
   ]
  },
  {
   "cell_type": "code",
   "execution_count": 74,
   "metadata": {},
   "outputs": [],
   "source": [
    "def Contraction(valf: np.ndarray, model: Model, gamma=1.0):\n",
    "    delta = 0\n",
    "    for s in states:\n",
    "        v = valf[to_idx(s)]\n",
    "        valid_actions_idx = get_valid_actions(s, idx=True)\n",
    "        valf[to_idx(s)] = np.max(\n",
    "            [\n",
    "                model.prob(s, a) @ (model.get_reward(s) + gamma * valf)\n",
    "                for a in valid_actions_idx\n",
    "            ]\n",
    "        )\n",
    "        delta = max(delta, abs(v - valf[to_idx(s)]))\n",
    "    return delta, valf"
   ]
  },
  {
   "cell_type": "code",
   "execution_count": 75,
   "metadata": {},
   "outputs": [],
   "source": [
    "def GetPolicy(valf: np.ndarray, model: Model, gamma=1.0):\n",
    "    policy = Policy(num_states, num_actions, PolicyInit.ZERO)\n",
    "\n",
    "    for s in states:\n",
    "        valid_actions_idx = get_valid_actions(s, idx=True)\n",
    "        action_value = [\n",
    "            model.prob(s, a) @ (model.get_reward(s) + gamma * valf)\n",
    "            for a in valid_actions_idx\n",
    "        ]\n",
    "        amzt = valid_actions_idx[np.argmax(action_value)]\n",
    "        policy.update(s, amzt, 1)\n",
    "        policy.set_action(s, amzt)\n",
    "    return policy"
   ]
  },
  {
   "cell_type": "code",
   "execution_count": 81,
   "metadata": {},
   "outputs": [],
   "source": [
    "# Initialize model\n",
    "mdp = init_mdp(num_states, num_actions, wind_col)\n",
    "reward = init_reward(num_states, t_reward=0)\n",
    "model = Model(mdp, reward)"
   ]
  },
  {
   "cell_type": "code",
   "execution_count": 82,
   "metadata": {},
   "outputs": [
    {
     "name": "stdout",
     "output_type": "stream",
     "text": [
      "Value Iteration 1\n",
      "Delta: 2.2808889999999997\n",
      "Value Iteration 2\n",
      "Delta: 1.6196666666666668\n",
      "Value Iteration 3\n",
      "Delta: 1.2960000000000003\n",
      "Value Iteration 4\n",
      "Delta: 1.1664000000000003\n",
      "Value Iteration 5\n",
      "Delta: 1.049760000000001\n",
      "Value Iteration 6\n",
      "Delta: 0.9447840000000003\n",
      "Value Iteration 7\n",
      "Delta: 0.8503056000000004\n",
      "Value Iteration 8\n",
      "Delta: 0.7652750400000006\n",
      "Value Iteration 9\n",
      "Delta: 0.6887475360000002\n",
      "Value Iteration 10\n",
      "Delta: 0.6198727824000008\n",
      "Value Iteration 11\n",
      "Delta: 0.5578855041600006\n",
      "Value Iteration 12\n",
      "Delta: 0.5020969537440001\n",
      "Value Iteration 13\n",
      "Delta: 0.45188725836960053\n",
      "Value Iteration 14\n",
      "Delta: 0.30396488662492516\n",
      "Value Iteration 15\n",
      "Delta: 0.2287679245496097\n",
      "Value Iteration 16\n",
      "Delta: 0.20589113209465015\n",
      "Value Iteration 17\n",
      "Delta: 0.18530201888518505\n",
      "Value Iteration 18\n",
      "Delta: 0.16677181699666477\n",
      "Value Iteration 19\n",
      "Delta: 0.1500946352969983\n",
      "Value Iteration 20\n",
      "Delta: 0.13508517176729917\n",
      "Value Iteration 21\n",
      "Delta: 0.12157665459056943\n",
      "Value Iteration 22\n",
      "Delta: 0.10941898913151249\n",
      "Value Iteration 23\n",
      "Delta: 0.0984770902183616\n",
      "Value Iteration 24\n",
      "Delta: 0.08862938119652597\n",
      "Value Iteration 25\n",
      "Delta: 0.0797664430768723\n",
      "Value Iteration 26\n",
      "Delta: 0.06108847482487434\n",
      "Value Iteration 27\n",
      "Delta: 0.03609885237676025\n",
      "Value Iteration 28\n",
      "Delta: 0.0296326615592033\n",
      "Value Iteration 29\n",
      "Delta: 0.024975720078899144\n",
      "Value Iteration 30\n",
      "Delta: 0.020899511819443717\n",
      "Value Iteration 31\n",
      "Delta: 0.015985653453382653\n",
      "Value Iteration 32\n",
      "Delta: 0.013331252586825215\n",
      "Value Iteration 33\n",
      "Delta: 0.011108523409907534\n",
      "Value Iteration 34\n",
      "Delta: 0.009091283187652621\n",
      "Value Iteration 35\n",
      "Delta: 0.007223940211661173\n",
      "Value Iteration 36\n",
      "Delta: 0.00601518869747153\n",
      "Value Iteration 37\n",
      "Delta: 0.0049824915298426475\n",
      "Value Iteration 38\n",
      "Delta: 0.004010229959453326\n",
      "Value Iteration 39\n",
      "Delta: 0.003338445456863681\n",
      "Value Iteration 40\n",
      "Delta: 0.002779321532070611\n",
      "Value Iteration 41\n",
      "Delta: 0.002313786190065059\n",
      "Value Iteration 42\n",
      "Delta: 0.0019261922315525482\n",
      "Value Iteration 43\n",
      "Delta: 0.001603540029181616\n",
      "Value Iteration 44\n",
      "Delta: 0.0013349447174721973\n",
      "Value Iteration 45\n",
      "Delta: 0.0011113359133645417\n",
      "Value Iteration 46\n",
      "Delta: 0.0009251796412801383\n"
     ]
    }
   ],
   "source": [
    "valf = np.zeros(num_states)\n",
    "# valf[to_idx(t_state)] = 0\n",
    "\n",
    "thresh = 0.001\n",
    "gamma = 0.9\n",
    "\n",
    "delta = thresh + 1\n",
    "i = 0\n",
    "\n",
    "while delta > thresh and i < 1000:\n",
    "    print(f\"Value Iteration {i + 1}\")\n",
    "\n",
    "    # Apply contraction mapping\n",
    "    delta, valf = Contraction(valf, model, gamma=gamma)\n",
    "\n",
    "    # Print delta\n",
    "    print(f\"Delta: {delta}\")\n",
    "    i+=1\n",
    "\n",
    "policy = GetPolicy(valf, model)"
   ]
  },
  {
   "cell_type": "code",
   "execution_count": 83,
   "metadata": {},
   "outputs": [
    {
     "data": {
      "image/png": "[encoded data removed]",
      "text/plain": [
       "<Figure size 640x480 with 2 Axes>"
      ]
     },
     "metadata": {},
     "output_type": "display_data"
    }
   ],
   "source": [
    "import matplotlib.pyplot as plt\n",
    "valf_toplot = valf.reshape(rows, cols)\n",
    "plt.gca().invert_yaxis()\n",
    "heatmap = plt.imshow(valf_toplot)\n",
    "plt.colorbar(heatmap)\n",
    "plt.show()"
   ]
  },
  {
   "cell_type": "code",
   "execution_count": 89,
   "metadata": {},
   "outputs": [
    {
     "name": "stdout",
     "output_type": "stream",
     "text": [
      "State: [3 0], Action: [1 1], Next State: [4 1], Reward: -1\n",
      "State: [4 1], Action: [1 1], Next State: [5 2], Reward: -1\n",
      "State: [5 2], Action: [1 1], Next State: [6 3], Reward: -1\n",
      "State: [6 3], Action: [0 1], Next State: [4 4], Reward: -1\n",
      "State: [4 4], Action: [1 1], Next State: [3 5], Reward: -1\n",
      "State: [3 5], Action: [1 1], Next State: [3 6], Reward: -1\n",
      "State: [3 6], Action: [1 1], Next State: [3 7], Reward: 0\n",
      "Game Over - Score: -6\n"
     ]
    }
   ],
   "source": [
    "# Run agent\n",
    "score = 0\n",
    "steps = 0\n",
    "s = np.array([3,0])\n",
    "\n",
    "path = [s]\n",
    "\n",
    "while(steps < 1000):\n",
    "    a = policy.get_action(s)\n",
    "\n",
    "    s_ = model.gen_next(s, a)\n",
    "    path.append(s_)\n",
    "\n",
    "    r = model.get_reward(s, s_)\n",
    "    score += r\n",
    "    print(f\"State: {s}, Action: {actions[a]}, Next State: {s_}, Reward: {r}\")\n",
    "\n",
    "    if(r!= -1):\n",
    "        print(f\"Game Over - Score: {score}\")\n",
    "        break\n",
    "    \n",
    "    s = s_\n",
    "    steps += 1"
   ]
  },
  {
   "cell_type": "code",
   "execution_count": 90,
   "metadata": {},
   "outputs": [
    {
     "data": {
      "image/png": "[encoded data removed]",
      "text/plain": [
       "<Figure size 640x480 with 1 Axes>"
      ]
     },
     "metadata": {},
     "output_type": "display_data"
    }
   ],
   "source": [
    "path_plt = np.array(path) + 0.5\n",
    "y, x = path_plt.T\n",
    "\n",
    "ax = plt.gca()\n",
    "ax.grid()\n",
    "\n",
    "ax.set_xlim(0, cols)\n",
    "ax.set_xticks(np.arange(0, cols, 1), minor=False)\n",
    "ax.set_xticklabels([])\n",
    "ax.set_xticks(np.arange(0.5, cols, 1), minor=True)\n",
    "ax.set_xticklabels([str(x) for x in wind_col], minor=True)\n",
    "\n",
    "ax.set_ylim(rows, 0)\n",
    "ax.set_yticks(np.arange(0, rows, 1), minor=False)\n",
    "ax.set_yticklabels([])\n",
    "\n",
    "ax.plot(x, y)\n",
    "plt.show()"
   ]
  }
 ],
 "metadata": {
  "kernelspec": {
   "display_name": "base",
   "language": "python",
   "name": "python3"
  },
  "language_info": {
   "codemirror_mode": {
    "name": "ipython",
    "version": 3
   },
   "file_extension": ".py",
   "mimetype": "text/x-python",
   "name": "python",
   "nbconvert_exporter": "python",
   "pygments_lexer": "ipython3",
   "version": "3.11.5"
  }
 },
 "nbformat": 4,
 "nbformat_minor": 2
}
