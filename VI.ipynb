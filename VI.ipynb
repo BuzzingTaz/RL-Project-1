{
 "cells": [
  {
   "cell_type": "code",
   "execution_count": 1,
   "metadata": {},
   "outputs": [],
   "source": [
    "import numpy as np\n",
    "\n",
    "from system import (\n",
    "    rows,\n",
    "    cols,\n",
    "    states,\n",
    "    num_states,\n",
    "    num_actions,\n",
    "    wind_col,\n",
    "    to_idx,\n",
    "    get_valid_actions,\n",
    "    init_mdp,\n",
    "    init_reward,\n",
    ")\n",
    "from model import Model\n",
    "from policy import Policy, PolicyInit\n",
    "from agent import Agent"
   ]
  },
  {
   "cell_type": "code",
   "execution_count": 2,
   "metadata": {},
   "outputs": [],
   "source": [
    "def Contraction(valf: np.ndarray, model: Model, gamma=1.0):\n",
    "    delta = 0\n",
    "    for s in states:\n",
    "        v = valf[to_idx(s)]\n",
    "        valid_actions_idx = get_valid_actions(s, idx=True)\n",
    "        valf[to_idx(s)] = np.max(\n",
    "            [\n",
    "                model.prob(s, a) @ (model.get_reward(s) + gamma * valf)\n",
    "                for a in valid_actions_idx\n",
    "            ]\n",
    "        )\n",
    "        delta = max(delta, abs(v - valf[to_idx(s)]))\n",
    "    return delta, valf"
   ]
  },
  {
   "cell_type": "code",
   "execution_count": 3,
   "metadata": {},
   "outputs": [],
   "source": [
    "def GetPolicy(valf: np.ndarray, model: Model, gamma=1.0):\n",
    "    policy = Policy(num_states, num_actions, PolicyInit.RANDOM)\n",
    "\n",
    "    for s in states:\n",
    "        valid_actions_idx = get_valid_actions(s, idx=True)\n",
    "        action_value = [\n",
    "            model.prob(s, a) @ (model.get_reward(s) + gamma * valf)\n",
    "            for a in valid_actions_idx\n",
    "        ]\n",
    "        amzt = valid_actions_idx[np.argmax(action_value)]\n",
    "        policy.update(s, amzt, 1)\n",
    "        policy.set_action(s, amzt)\n",
    "    return policy"
   ]
  },
  {
   "cell_type": "code",
   "execution_count": 4,
   "metadata": {},
   "outputs": [],
   "source": [
    "# Initialize model\n",
    "mdp = init_mdp(num_states, num_actions, wind_col)\n",
    "reward = init_reward(num_states, t_reward=0)\n",
    "model = Model(mdp, reward)"
   ]
  },
  {
   "cell_type": "code",
   "execution_count": 5,
   "metadata": {},
   "outputs": [
    {
     "name": "stdout",
     "output_type": "stream",
     "text": [
      "Value Iteration 1\n",
      "Delta: 2.0461\n",
      "Value Iteration 2\n",
      "Delta: 1.44\n",
      "Value Iteration 3\n",
      "Delta: 1.2960000000000003\n",
      "Value Iteration 4\n",
      "Delta: 1.1664000000000003\n",
      "Value Iteration 5\n",
      "Delta: 1.049760000000001\n",
      "Value Iteration 6\n",
      "Delta: 0.9447840000000003\n",
      "Value Iteration 7\n",
      "Delta: 0.8503056000000004\n",
      "Value Iteration 8\n",
      "Delta: 0.7652750400000006\n",
      "Value Iteration 9\n",
      "Delta: 0.6887475360000002\n",
      "Value Iteration 10\n",
      "Delta: 0.5917990682820999\n",
      "Value Iteration 11\n",
      "Delta: 0.5208856289773216\n",
      "Value Iteration 12\n",
      "Delta: 0.31709213988629337\n",
      "Value Iteration 13\n",
      "Delta: 0.28242953648100055\n",
      "Value Iteration 14\n",
      "Delta: 0.12431887310778311\n",
      "Value Iteration 15\n",
      "Delta: 0.06865568611253892\n",
      "Value Iteration 16\n",
      "Delta: 0.04243973637777376\n",
      "Value Iteration 17\n",
      "Delta: 0.024692551368807436\n",
      "Value Iteration 18\n",
      "Delta: 0.01598870017223053\n",
      "Value Iteration 19\n",
      "Delta: 0.01089199032985988\n",
      "Value Iteration 20\n",
      "Delta: 0.007195735551858817\n",
      "Value Iteration 21\n",
      "Delta: 0.004828306003274996\n",
      "Value Iteration 22\n",
      "Delta: 0.003279077176292944\n",
      "Value Iteration 23\n",
      "Delta: 0.002202998605042694\n",
      "Value Iteration 24\n",
      "Delta: 0.001474694466438109\n",
      "Value Iteration 25\n",
      "Delta: 0.000993476220714662\n"
     ]
    }
   ],
   "source": [
    "valf = np.zeros(num_states)\n",
    "# valf[to_idx(t_state)] = 0\n",
    "\n",
    "thresh = 0.001\n",
    "gamma = 0.9\n",
    "\n",
    "delta = thresh + 1\n",
    "i = 0\n",
    "\n",
    "while delta > thresh and i < 1000:\n",
    "    print(f\"Value Iteration {i + 1}\")\n",
    "\n",
    "    # Apply contraction mapping\n",
    "    delta, valf = Contraction(valf, model, gamma=gamma)\n",
    "\n",
    "    # Print delta\n",
    "    print(f\"Delta: {delta}\")\n",
    "    i+=1\n",
    "\n",
    "policy = GetPolicy(valf, model)"
   ]
  },
  {
   "cell_type": "code",
   "execution_count": 6,
   "metadata": {},
   "outputs": [
    {
     "data": {
      "image/png": "[encoded data removed]",
      "text/plain": [
       "<Figure size 640x480 with 2 Axes>"
      ]
     },
     "metadata": {},
     "output_type": "display_data"
    }
   ],
   "source": [
    "import matplotlib.pyplot as plt\n",
    "valf_toplot = valf.reshape(rows, cols)\n",
    "plt.gca().invert_yaxis()\n",
    "heatmap = plt.imshow(valf_toplot)\n",
    "plt.colorbar(heatmap)\n",
    "plt.show()"
   ]
  },
  {
   "cell_type": "code",
   "execution_count": 10,
   "metadata": {},
   "outputs": [
    {
     "name": "stdout",
     "output_type": "stream",
     "text": [
      "State: [3 0], Action: [1 1], Next State: [4 1], Reward: -1\n",
      "State: [4 1], Action: [1 1], Next State: [5 2], Reward: -1\n",
      "State: [5 2], Action: [1 1], Next State: [5 3], Reward: -1\n",
      "State: [5 3], Action: [1 1], Next State: [6 4], Reward: -1\n",
      "State: [6 4], Action: [0 1], Next State: [6 5], Reward: -1\n",
      "State: [6 5], Action: [0 1], Next State: [5 6], Reward: -1\n",
      "State: [5 6], Action: [1 1], Next State: [3 7], Reward: 0\n",
      "Game Over - Score: -6\n"
     ]
    }
   ],
   "source": [
    "agent = Agent(model, policy)\n",
    "path, score = agent.play(model, policy, np.array([3,0]), 1000)"
   ]
  },
  {
   "cell_type": "code",
   "execution_count": 11,
   "metadata": {},
   "outputs": [
    {
     "data": {
      "image/png": "[encoded data removed]",
      "text/plain": [
       "<Figure size 640x480 with 1 Axes>"
      ]
     },
     "metadata": {},
     "output_type": "display_data"
    }
   ],
   "source": [
    "path_plt = np.array(path) + 0.5\n",
    "y, x = path_plt.T\n",
    "\n",
    "ax = plt.gca()\n",
    "ax.grid()\n",
    "\n",
    "ax.set_xlim(0, cols)\n",
    "ax.set_xticks(np.arange(0, cols, 1), minor=False)\n",
    "ax.set_xticklabels([])\n",
    "ax.set_xticks(np.arange(0.5, cols, 1), minor=True)\n",
    "ax.set_xticklabels([str(x) for x in wind_col], minor=True)\n",
    "\n",
    "ax.set_ylim(rows, 0)\n",
    "ax.set_yticks(np.arange(0, rows, 1), minor=False)\n",
    "ax.set_yticklabels([])\n",
    "\n",
    "ax.plot(x, y)\n",
    "plt.show()"
   ]
  }
 ],
 "metadata": {
  "kernelspec": {
   "display_name": "base",
   "language": "python",
   "name": "python3"
  },
  "language_info": {
   "codemirror_mode": {
    "name": "ipython",
    "version": 3
   },
   "file_extension": ".py",
   "mimetype": "text/x-python",
   "name": "python",
   "nbconvert_exporter": "python",
   "pygments_lexer": "ipython3",
   "version": "3.11.5"
  }
 },
 "nbformat": 4,
 "nbformat_minor": 2
}
