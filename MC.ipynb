{
 "cells": [
  {
   "cell_type": "code",
   "execution_count": 1,
   "metadata": {},
   "outputs": [],
   "source": [
    "import numpy as np\n",
    "\n",
    "from system import (\n",
    "    mdp,\n",
    "    reward,\n",
    "    states,\n",
    "    num_states,\n",
    "    num_actions,\n",
    "    to_idx,\n",
    "    get_valid_actions,\n",
    ")\n",
    "from model import Model\n",
    "from policy import Policy, PolicyInit"
   ]
  },
  {
   "cell_type": "code",
   "execution_count": 7,
   "metadata": {},
   "outputs": [],
   "source": [
    "qarr = np.random.uniform(0, 2, (num_states, num_actions))\n",
    "policy = Policy(num_states, num_actions, PolicyInit.RANDOM)\n",
    "prob = np.ones(num_states*num_actions)/(num_states*num_actions)\n",
    "possi = []\n",
    "for s in range(num_states):\n",
    "    for a in range(num_actions):\n",
    "        possi.append([s, a])\n",
    "possi = np.array(possi)\n",
    "returns = [[[] for a in range(num_actions)]for s in range(num_states)]"
   ]
  },
  {
   "cell_type": "code",
   "execution_count": null,
   "metadata": {},
   "outputs": [],
   "source": [
    "i = 0\n",
    "T = 100\n",
    "while i < 1000:\n",
    "    ipair = np.random.choice(possi, p = prob)\n",
    "    fo = {}\n",
    "    for j in range(T):\n",
    "        s = estates[j]\n",
    "        a = eactions[j]\n",
    "        r = erewards[j]\n",
    "        if [s, a] not in fo:\n",
    "            fo[[s, a]] = j\n",
    "    g = 0\n",
    "    for j in range(T):\n",
    "        s = estates[T - j - 1]\n",
    "        a = eactions[T - j - 1]\n",
    "        r = erewards[T - j - 1]\n",
    "        g = gamma*g + r\n",
    "        if T - j - 1 == fo[[s, a]]:\n",
    "            returns[s][a].append(g)\n",
    "            qarr[s, a] = np.mean(returns[s][a])\n",
    "    ua = np.argmax(qarr, axis = 1)\n",
    "    for s in range(num_states):\n",
    "        policy.set_action(s, ua[s])"
   ]
  }
 ],
 "metadata": {
  "kernelspec": {
   "display_name": "Python 3",
   "language": "python",
   "name": "python3"
  },
  "language_info": {
   "codemirror_mode": {
    "name": "ipython",
    "version": 3
   },
   "file_extension": ".py",
   "mimetype": "text/x-python",
   "name": "python",
   "nbconvert_exporter": "python",
   "pygments_lexer": "ipython3",
   "version": "3.11.4"
  }
 },
 "nbformat": 4,
 "nbformat_minor": 2
}
