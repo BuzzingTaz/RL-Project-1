{
 "cells": [
  {
   "cell_type": "code",
   "execution_count": 70,
   "metadata": {},
   "outputs": [],
   "source": [
    "import numpy as np\n",
    "from tqdm import tqdm\n",
    "\n",
    "from system import (\n",
    "    rows,\n",
    "    cols,\n",
    "    states,\n",
    "    wind_col,\n",
    "    num_states,\n",
    "    num_actions,\n",
    "    init_mdp,\n",
    "    init_reward,\n",
    "    to_idx,\n",
    "    get_valid_actions,\n",
    "    gen_random_sa,\n",
    ")\n",
    "from model import Model\n",
    "from policy import Policy, PolicyInit\n",
    "from agent import Agent"
   ]
  },
  {
   "cell_type": "code",
   "execution_count": 86,
   "metadata": {},
   "outputs": [],
   "source": [
    "mdp = init_mdp(num_states, num_actions, wind_col)\n",
    "reward = init_reward(num_states, t_reward=100)\n",
    "\n",
    "model = Model(mdp, reward)\n",
    "\n",
    "policy = Policy(num_states, num_actions, PolicyInit.RANDOM)\n",
    "\n",
    "agent = Agent(model, policy)"
   ]
  },
  {
   "cell_type": "code",
   "execution_count": 87,
   "metadata": {},
   "outputs": [
    {
     "name": "stderr",
     "output_type": "stream",
     "text": [
      "100%|██████████| 10000/10000 [00:14<00:00, 703.78it/s]\n"
     ]
    }
   ],
   "source": [
    "Q_val = np.random.uniform(-10, -1, (num_states, num_actions))\n",
    "returns = [[[] for a in range(num_actions)] for s in range(num_states)]\n",
    "# valf_list = [(np.max(Q_val, axis=1))]\n",
    "\n",
    "i = 0\n",
    "T = 100\n",
    "gamma = 0.9\n",
    "\n",
    "for i in tqdm(range(10000)):\n",
    "    start_state, start_action = gen_random_sa()\n",
    "    estates, eactions, erewards = agent.gen_episode(start_state, start_action, T)\n",
    "    T = len(erewards) # Early termination\n",
    "    fo = {}\n",
    "    for j in range(T):\n",
    "        s = tuple(estates[j])\n",
    "        a = eactions[j]\n",
    "        # r = erewards[j]\n",
    "        if (s, a) not in fo:\n",
    "            fo[(s, a)] = j\n",
    "    g = 0\n",
    "    \n",
    "    for j in range(T):\n",
    "        s = tuple(estates[T - j - 1])\n",
    "        a = eactions[T - j - 1]\n",
    "        r = erewards[T - j - 1]\n",
    "        g = gamma * g + r\n",
    "        if T - j - 1 == fo[(s, a)]:\n",
    "            returns[to_idx(s)][a].append(g)\n",
    "            Q_val[to_idx(s), a] = np.mean(returns[to_idx(s)][a])\n",
    "            # policy.set_action(np.array(s), np.argmax(Q_val[to_idx(s)]))\n",
    "    \n",
    "    # valf_list.append(np.max(Q_val, axis=1))\n",
    "    for s, a in fo.keys():\n",
    "        valid_actions = get_valid_actions(s, idx=True)\n",
    "        action = valid_actions[np.argmax(Q_val[to_idx(s)][valid_actions])]\n",
    "        policy.set_action(s, action)\n",
    "    # valf_store.append(valf[30])\n",
    "    agent.change_policy(policy)"
   ]
  },
  {
   "cell_type": "code",
   "execution_count": 88,
   "metadata": {},
   "outputs": [],
   "source": [
    "valf = []\n",
    "for s in states: \n",
    "    valid_actions = get_valid_actions(s, idx=True)\n",
    "    valf.append(np.max(Q_val[to_idx(s)][valid_actions]))\n",
    "valf = np.array(valf)"
   ]
  },
  {
   "cell_type": "code",
   "execution_count": 89,
   "metadata": {},
   "outputs": [
    {
     "data": {
      "image/png": "[encoded data removed]",
      "text/plain": [
       "<Figure size 640x480 with 2 Axes>"
      ]
     },
     "metadata": {},
     "output_type": "display_data"
    }
   ],
   "source": [
    "import matplotlib.pyplot as plt\n",
    "valf_toplot = valf.reshape(rows, cols)\n",
    "plt.gca().invert_yaxis()\n",
    "heatmap = plt.imshow(valf_toplot)\n",
    "plt.colorbar(heatmap)\n",
    "plt.show()"
   ]
  },
  {
   "cell_type": "code",
   "execution_count": 101,
   "metadata": {},
   "outputs": [
    {
     "name": "stdout",
     "output_type": "stream",
     "text": [
      "State: [3 0], Action: [-1  1], Next State: [2 1], Reward: -1\n",
      "State: [2 1], Action: [1 1], Next State: [3 2], Reward: -1\n",
      "State: [3 2], Action: [1 1], Next State: [2 3], Reward: -1\n",
      "State: [2 3], Action: [1 1], Next State: [1 4], Reward: -1\n",
      "State: [1 4], Action: [1 1], Next State: [2 5], Reward: -1\n",
      "State: [2 5], Action: [0 1], Next State: [1 6], Reward: -1\n",
      "State: [1 6], Action: [0 1], Next State: [0 7], Reward: -1\n",
      "State: [0 7], Action: [1 1], Next State: [0 8], Reward: -1\n",
      "State: [0 8], Action: [1 1], Next State: [1 9], Reward: -1\n",
      "State: [1 9], Action: [1 0], Next State: [2 9], Reward: -1\n",
      "State: [2 9], Action: [1 0], Next State: [3 9], Reward: -1\n",
      "State: [3 9], Action: [1 0], Next State: [4 9], Reward: -1\n",
      "State: [4 9], Action: [ 1 -1], Next State: [3 8], Reward: -1\n",
      "State: [3 8], Action: [ 1 -1], Next State: [1 7], Reward: -1\n",
      "State: [1 7], Action: [1 1], Next State: [1 8], Reward: -1\n",
      "State: [1 8], Action: [1 1], Next State: [2 9], Reward: -1\n",
      "State: [2 9], Action: [1 0], Next State: [3 9], Reward: -1\n",
      "State: [3 9], Action: [1 0], Next State: [4 9], Reward: -1\n",
      "State: [4 9], Action: [ 1 -1], Next State: [4 8], Reward: -1\n",
      "State: [4 8], Action: [ 1 -1], Next State: [3 7], Reward: 100\n",
      "Game Over - Score: 81\n"
     ]
    }
   ],
   "source": [
    "path, score = agent.play(model, policy, np.array([3,0]), 1000)"
   ]
  },
  {
   "cell_type": "code",
   "execution_count": 102,
   "metadata": {},
   "outputs": [
    {
     "data": {
      "image/png": "[encoded data removed]",
      "text/plain": [
       "<Figure size 640x480 with 1 Axes>"
      ]
     },
     "metadata": {},
     "output_type": "display_data"
    }
   ],
   "source": [
    "\n",
    "path_plt = np.array(path) + 0.5\n",
    "y, x = path_plt.T\n",
    "\n",
    "ax = plt.gca()\n",
    "ax.grid()\n",
    "\n",
    "ax.set_xlim(0, cols)\n",
    "ax.set_xticks(np.arange(0, cols, 1), minor=False)\n",
    "ax.set_xticklabels([])\n",
    "ax.set_xticks(np.arange(0.5, cols, 1), minor=True)\n",
    "ax.set_xticklabels([str(x) for x in wind_col], minor=True)\n",
    "\n",
    "ax.set_ylim(rows, 0)\n",
    "ax.set_yticks(np.arange(0, rows, 1), minor=False)\n",
    "ax.set_yticklabels([])\n",
    "\n",
    "ax.plot(x, y)\n",
    "plt.show()"
   ]
  }
 ],
 "metadata": {
  "kernelspec": {
   "display_name": "Python 3",
   "language": "python",
   "name": "python3"
  },
  "language_info": {
   "codemirror_mode": {
    "name": "ipython",
    "version": 3
   },
   "file_extension": ".py",
   "mimetype": "text/x-python",
   "name": "python",
   "nbconvert_exporter": "python",
   "pygments_lexer": "ipython3",
   "version": "3.11.5"
  }
 },
 "nbformat": 4,
 "nbformat_minor": 2
}
