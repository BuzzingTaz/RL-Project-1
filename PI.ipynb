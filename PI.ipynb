{
 "cells": [
  {
   "cell_type": "code",
   "execution_count": 3,
   "metadata": {},
   "outputs": [],
   "source": [
    "import numpy as np\n",
    "\n",
    "from system import (\n",
    "    states,\n",
    "    actions,\n",
    "    num_states,\n",
    "    num_actions,\n",
    "    wind_col,\n",
    "    to_idx,\n",
    "    get_valid_actions,\n",
    "    init_mdp,\n",
    "    init_reward,\n",
    "    rows,\n",
    "    cols,\n",
    ")\n",
    "\n",
    "from model import Model\n",
    "from policy import Policy, PolicyInit"
   ]
  },
  {
   "cell_type": "code",
   "execution_count": 4,
   "metadata": {},
   "outputs": [],
   "source": [
    "def EvaluatePolicy(\n",
    "    policy: Policy, valf: np.ndarray, model: Model, thresh=0.01, gamma=1.0\n",
    "):\n",
    "    i = 0\n",
    "    delta = thresh + 1\n",
    "    while delta > thresh and i < 1000:\n",
    "        delta = 0\n",
    "        for s in states:\n",
    "            v = valf[to_idx(s)]\n",
    "            a = policy.get_action(s)\n",
    "\n",
    "            valf[to_idx(s)] = model.prob(s, a) @ (model.get_reward(s) + gamma * valf)\n",
    "\n",
    "            delta = max(delta, abs(v - valf[to_idx(s)]))\n",
    "        i += 1\n",
    "    return valf"
   ]
  },
  {
   "cell_type": "code",
   "execution_count": 5,
   "metadata": {},
   "outputs": [],
   "source": [
    "def UpdatePolicy(policy: Policy, valf: np.ndarray, model: Model, gamma=1.0):\n",
    "    policy_stable = True\n",
    "    k = 0\n",
    "    changed_policies = []\n",
    "    for s in states:\n",
    "        old_action = policy.get_action(s)\n",
    "        valid_actions_idx = get_valid_actions(s, idx=True)\n",
    "        action_value = [\n",
    "            model.prob(s, a) @ (model.get_reward(s) + gamma * valf)\n",
    "            for a in valid_actions_idx\n",
    "        ]\n",
    "        # amzt = np.random.choice(valid_actions_idx[action_value == np.max(action_value)])\n",
    "        amzt = valid_actions_idx[np.argmax(action_value)]\n",
    "        \n",
    "        if(valf[to_idx(s)] <= np.max(action_value)):\n",
    "            policy.set_action(s, amzt)\n",
    "            if old_action != policy.get_action(s):\n",
    "                changed_policies.append(s)\n",
    "                k += 1\n",
    "                policy_stable = False\n",
    "    print(f\"Policy changed for {k} states\")\n",
    "    print(f\"Changed policies: {changed_policies}\")\n",
    "    return policy_stable"
   ]
  },
  {
   "cell_type": "code",
   "execution_count": 6,
   "metadata": {},
   "outputs": [],
   "source": [
    "# Initialize model\n",
    "mdp = init_mdp(num_states, num_actions, wind_col)\n",
    "reward = init_reward(num_states, t_state=np.array([3, 7]), t_reward=0)\n",
    "model = Model(mdp, reward)\n",
    "\n",
    "# Initialize policy\n",
    "policy = Policy(num_states, num_actions, PolicyInit.RANDOM)"
   ]
  },
  {
   "cell_type": "code",
   "execution_count": 7,
   "metadata": {},
   "outputs": [],
   "source": [
    "for s in states:\n",
    "    policy.set_action(s, policy.gen_action_idx(s))"
   ]
  },
  {
   "cell_type": "code",
   "execution_count": 8,
   "metadata": {},
   "outputs": [
    {
     "name": "stdout",
     "output_type": "stream",
     "text": [
      "Policy Iteration 1\n",
      "Evaluating Policy\n",
      "Updating Policy\n",
      "Policy changed for 53 states\n",
      "Changed policies: [array([0, 1]), array([0, 2]), array([0, 3]), array([0, 5]), array([0, 7]), array([0, 9]), array([1, 0]), array([1, 1]), array([1, 3]), array([1, 4]), array([1, 7]), array([1, 9]), array([2, 1]), array([2, 2]), array([2, 3]), array([2, 4]), array([2, 5]), array([2, 6]), array([3, 0]), array([3, 1]), array([3, 3]), array([3, 4]), array([3, 5]), array([3, 6]), array([3, 8]), array([3, 9]), array([4, 0]), array([4, 1]), array([4, 2]), array([4, 3]), array([4, 4]), array([4, 5]), array([4, 6]), array([4, 7]), array([4, 9]), array([5, 0]), array([5, 1]), array([5, 2]), array([5, 3]), array([5, 4]), array([5, 5]), array([5, 6]), array([5, 7]), array([5, 8]), array([6, 0]), array([6, 1]), array([6, 2]), array([6, 3]), array([6, 4]), array([6, 5]), array([6, 6]), array([6, 7]), array([6, 8])]\n",
      "Policy Iteration 2\n",
      "Evaluating Policy\n",
      "Updating Policy\n",
      "Policy changed for 43 states\n",
      "Changed policies: [array([0, 1]), array([0, 4]), array([0, 6]), array([0, 8]), array([0, 9]), array([1, 0]), array([1, 1]), array([1, 2]), array([1, 3]), array([1, 4]), array([1, 5]), array([1, 6]), array([1, 8]), array([1, 9]), array([2, 0]), array([2, 1]), array([2, 2]), array([2, 3]), array([2, 4]), array([2, 6]), array([2, 7]), array([2, 8]), array([3, 3]), array([3, 4]), array([3, 5]), array([3, 9]), array([4, 2]), array([4, 4]), array([4, 5]), array([4, 6]), array([4, 8]), array([4, 9]), array([5, 2]), array([5, 3]), array([5, 4]), array([5, 6]), array([5, 7]), array([5, 8]), array([6, 2]), array([6, 3]), array([6, 4]), array([6, 6]), array([6, 8])]\n",
      "Policy Iteration 3\n",
      "Evaluating Policy\n",
      "Updating Policy\n",
      "Policy changed for 13 states\n",
      "Changed policies: [array([0, 3]), array([1, 2]), array([1, 3]), array([1, 5]), array([2, 3]), array([2, 5]), array([3, 2]), array([3, 3]), array([4, 2]), array([4, 3]), array([5, 3]), array([6, 1]), array([6, 3])]\n",
      "Policy Iteration 4\n",
      "Evaluating Policy\n",
      "Updating Policy\n",
      "Policy changed for 14 states\n",
      "Changed policies: [array([0, 2]), array([1, 2]), array([2, 1]), array([2, 2]), array([3, 1]), array([3, 2]), array([4, 1]), array([4, 2]), array([5, 0]), array([5, 1]), array([5, 2]), array([6, 0]), array([6, 1]), array([6, 2])]\n",
      "Policy Iteration 5\n",
      "Evaluating Policy\n",
      "Updating Policy\n",
      "Policy changed for 12 states\n",
      "Changed policies: [array([0, 1]), array([1, 0]), array([1, 1]), array([1, 2]), array([2, 0]), array([2, 1]), array([2, 2]), array([3, 0]), array([3, 2]), array([4, 0]), array([5, 0]), array([6, 0])]\n",
      "Policy Iteration 6\n",
      "Evaluating Policy\n",
      "Updating Policy\n",
      "Policy changed for 7 states\n",
      "Changed policies: [array([0, 0]), array([0, 1]), array([0, 2]), array([1, 0]), array([1, 1]), array([1, 3]), array([2, 3])]\n",
      "Policy Iteration 7\n",
      "Evaluating Policy\n",
      "Updating Policy\n",
      "Policy changed for 0 states\n",
      "Changed policies: []\n"
     ]
    }
   ],
   "source": [
    "# Initialize random state function\n",
    "valf = np.random.uniform(0, 2, size=num_states)\n",
    "valf_store = []\n",
    "valf_store.append(valf.copy())\n",
    "\n",
    "thresh = 0.01\n",
    "gamma = 0.9\n",
    "\n",
    "policy_stable = False\n",
    "i = 0\n",
    "while (not policy_stable) and i < 1000:\n",
    "    print(f\"Policy Iteration {i + 1}\")\n",
    "\n",
    "    # Policy Evaluation\n",
    "    print(\"Evaluating Policy\")\n",
    "    valf = EvaluatePolicy(policy, valf, model, thresh, gamma)\n",
    "    valf_store.append(valf)\n",
    "\n",
    "    # Policy Improvement\n",
    "    print(\"Updating Policy\")\n",
    "    policy_stable = UpdatePolicy(policy, valf, model, gamma)\n",
    "    i += 1\n"
   ]
  },
  {
   "cell_type": "code",
   "execution_count": 9,
   "metadata": {},
   "outputs": [
    {
     "data": {
      "image/png": "[encoded data removed]",
      "text/plain": [
       "<Figure size 640x480 with 2 Axes>"
      ]
     },
     "metadata": {},
     "output_type": "display_data"
    }
   ],
   "source": [
    "import matplotlib.pyplot as plt\n",
    "valf_toplot = valf.reshape(rows, cols)\n",
    "plt.gca().invert_yaxis()\n",
    "heatmap = plt.imshow(valf_toplot)\n",
    "plt.colorbar(heatmap)\n",
    "plt.show()"
   ]
  },
  {
   "cell_type": "code",
   "execution_count": 10,
   "metadata": {},
   "outputs": [
    {
     "name": "stdout",
     "output_type": "stream",
     "text": [
      "(70, 8)\n"
     ]
    }
   ],
   "source": [
    "valf_store = np.array(valf_store)\n",
    "valf_store = valf_store.T\n",
    "print(valf_store.shape)"
   ]
  },
  {
   "cell_type": "code",
   "execution_count": 11,
   "metadata": {},
   "outputs": [
    {
     "name": "stdout",
     "output_type": "stream",
     "text": [
      "State: [3 0], Action: [1 1], Next State: [4 1], Reward: -1\n",
      "State: [4 1], Action: [1 1], Next State: [5 2], Reward: -1\n",
      "State: [5 2], Action: [1 1], Next State: [5 3], Reward: -1\n",
      "State: [5 3], Action: [1 1], Next State: [5 4], Reward: -1\n",
      "State: [5 4], Action: [1 1], Next State: [5 5], Reward: -1\n",
      "State: [5 5], Action: [1 1], Next State: [3 6], Reward: -1\n",
      "State: [3 6], Action: [1 1], Next State: [2 7], Reward: -1\n",
      "State: [2 7], Action: [1 1], Next State: [3 8], Reward: -1\n",
      "State: [3 8], Action: [ 1 -1], Next State: [1 7], Reward: -1\n",
      "State: [1 7], Action: [1 1], Next State: [0 8], Reward: -1\n",
      "State: [0 8], Action: [1 1], Next State: [1 9], Reward: -1\n",
      "State: [1 9], Action: [1 0], Next State: [2 9], Reward: -1\n",
      "State: [2 9], Action: [1 0], Next State: [3 9], Reward: -1\n",
      "State: [3 9], Action: [1 0], Next State: [4 9], Reward: -1\n",
      "State: [4 9], Action: [ 1 -1], Next State: [3 8], Reward: -1\n",
      "State: [3 8], Action: [ 1 -1], Next State: [3 7], Reward: 0\n",
      "Game Over - Score: -15\n"
     ]
    }
   ],
   "source": [
    "# Run agent\n",
    "score = 0\n",
    "steps = 0\n",
    "s = np.array([3,0])\n",
    "\n",
    "path = [s]\n",
    "\n",
    "while(steps < 1000):\n",
    "    a = policy.get_action(s)\n",
    "\n",
    "    s_ = model.gen_next(s, a)\n",
    "    path.append(s_)\n",
    "\n",
    "    r = model.get_reward(s, s_)\n",
    "    score += r\n",
    "    print(f\"State: {s}, Action: {actions[a]}, Next State: {s_}, Reward: {r}\")\n",
    "    # print(f\"Sussy step: {model.prob(s, a)}\")\n",
    "\n",
    "    if(r!= -1):\n",
    "        print(f\"Game Over - Score: {score}\")\n",
    "        break\n",
    "    \n",
    "    s = s_\n",
    "    steps += 1"
   ]
  },
  {
   "cell_type": "code",
   "execution_count": 12,
   "metadata": {},
   "outputs": [
    {
     "data": {
      "image/png": "[encoded data removed]",
      "text/plain": [
       "<Figure size 640x480 with 1 Axes>"
      ]
     },
     "metadata": {},
     "output_type": "display_data"
    }
   ],
   "source": [
    "path_plt = np.array(path) + 0.5\n",
    "y, x = path_plt.T\n",
    "\n",
    "ax = plt.gca()\n",
    "ax.grid()\n",
    "\n",
    "ax.set_xlim(0, cols)\n",
    "ax.set_xticks(np.arange(0, cols, 1), minor=False)\n",
    "ax.set_xticklabels([])\n",
    "ax.set_xticks(np.arange(0.5, cols, 1), minor=True)\n",
    "ax.set_xticklabels([str(x) for x in wind_col], minor=True)\n",
    "\n",
    "ax.set_ylim(rows, 0)\n",
    "ax.set_yticks(np.arange(0, rows, 1), minor=False)\n",
    "ax.set_yticklabels([])\n",
    "\n",
    "ax.plot(x, y)\n",
    "plt.show()"
   ]
  }
 ],
 "metadata": {
  "kernelspec": {
   "display_name": "base",
   "language": "python",
   "name": "python3"
  },
  "language_info": {
   "codemirror_mode": {
    "name": "ipython",
    "version": 3
   },
   "file_extension": ".py",
   "mimetype": "text/x-python",
   "name": "python",
   "nbconvert_exporter": "python",
   "pygments_lexer": "ipython3",
   "version": "3.11.5"
  }
 },
 "nbformat": 4,
 "nbformat_minor": 2
}
