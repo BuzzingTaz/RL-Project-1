{
 "cells": [
  {
   "cell_type": "code",
   "execution_count": 1,
   "metadata": {},
   "outputs": [],
   "source": [
    "import numpy as np\n",
    "\n",
    "from system import (\n",
    "    rows,\n",
    "    cols,\n",
    "    states,\n",
    "    num_states,\n",
    "    num_actions,\n",
    "    wind_col,\n",
    "    to_idx,\n",
    "    get_valid_actions,\n",
    "    init_mdp,\n",
    "    init_reward,\n",
    ")\n",
    "from model import Model\n",
    "from policy import Policy, PolicyInit\n",
    "from agent import Agent"
   ]
  },
  {
   "cell_type": "code",
   "execution_count": 2,
   "metadata": {},
   "outputs": [],
   "source": [
    "def EvaluatePolicy(\n",
    "    policy: Policy, valf: np.ndarray, model: Model, thresh=0.01, gamma=1.0\n",
    "):\n",
    "    i = 0\n",
    "    delta = thresh + 1\n",
    "    while delta > thresh and i < 1000:\n",
    "        delta = 0\n",
    "        for s in states:\n",
    "            v = valf[to_idx(s)]\n",
    "            a = policy.get_action(s)\n",
    "\n",
    "            valf[to_idx(s)] = model.prob(s, a) @ (model.get_reward(s) + gamma * valf)\n",
    "\n",
    "            delta = max(delta, abs(v - valf[to_idx(s)]))\n",
    "        i += 1\n",
    "    return valf"
   ]
  },
  {
   "cell_type": "code",
   "execution_count": 3,
   "metadata": {},
   "outputs": [],
   "source": [
    "def UpdatePolicy(policy: Policy, valf: np.ndarray, model: Model, gamma=1.0):\n",
    "    policy_stable = True\n",
    "    k = 0\n",
    "    changed_policies = []\n",
    "    for s in states:\n",
    "        old_action = policy.get_action(s)\n",
    "        valid_actions_idx = get_valid_actions(s, idx=True)\n",
    "        action_value = [\n",
    "            model.prob(s, a) @ (model.get_reward(s) + gamma * valf)\n",
    "            for a in valid_actions_idx\n",
    "        ]\n",
    "        amzt = valid_actions_idx[np.argmax(action_value)]\n",
    "\n",
    "        if valf[to_idx(s)] <= np.max(action_value):\n",
    "            policy.set_action(s, amzt)\n",
    "            if old_action != policy.get_action(s):\n",
    "                policy_stable = False\n",
    "                changed_policies.append(s)\n",
    "                k += 1\n",
    "    # print(f\"Policy changed for {k} states\")\n",
    "    # print(f\"Changed policies: {changed_policies}\")\n",
    "    return policy_stable"
   ]
  },
  {
   "cell_type": "code",
   "execution_count": 4,
   "metadata": {},
   "outputs": [],
   "source": [
    "# Initialize model\n",
    "mdp = init_mdp(num_states, num_actions, wind_col)\n",
    "reward = init_reward(num_states, t_state=np.array([3, 7]), t_reward=0)\n",
    "model = Model(mdp, reward)\n",
    "\n",
    "# Initialize policy\n",
    "policy = Policy(num_states, num_actions, PolicyInit.RANDOM)"
   ]
  },
  {
   "cell_type": "code",
   "execution_count": 5,
   "metadata": {},
   "outputs": [],
   "source": [
    "for s in states:\n",
    "    policy.set_action(s, policy.gen_action_idx(s))"
   ]
  },
  {
   "cell_type": "code",
   "execution_count": 6,
   "metadata": {},
   "outputs": [
    {
     "name": "stdout",
     "output_type": "stream",
     "text": [
      "Policy Iteration 1\n",
      "Evaluating Policy\n",
      "Updating Policy\n",
      "Policy Iteration 2\n",
      "Evaluating Policy\n",
      "Updating Policy\n",
      "Policy Iteration 3\n",
      "Evaluating Policy\n",
      "Updating Policy\n",
      "Policy Iteration 4\n",
      "Evaluating Policy\n",
      "Updating Policy\n",
      "Policy Iteration 5\n",
      "Evaluating Policy\n",
      "Updating Policy\n",
      "Policy Iteration 6\n",
      "Evaluating Policy\n",
      "Updating Policy\n",
      "Policy Iteration 7\n",
      "Evaluating Policy\n",
      "Updating Policy\n",
      "Policy Iteration 8\n",
      "Evaluating Policy\n",
      "Updating Policy\n",
      "Policy Iteration 9\n",
      "Evaluating Policy\n",
      "Updating Policy\n",
      "Policy Iteration 10\n",
      "Evaluating Policy\n",
      "Updating Policy\n"
     ]
    }
   ],
   "source": [
    "# Initialize random state function\n",
    "valf = np.random.uniform(0, 2, size=num_states)\n",
    "valf_store = []\n",
    "valf_store.append(valf.copy())\n",
    "\n",
    "thresh = 0.01\n",
    "gamma = 0.9\n",
    "\n",
    "policy_stable = False\n",
    "i = 0\n",
    "while (not policy_stable) and i < 1000:\n",
    "    print(f\"Policy Iteration {i + 1}\")\n",
    "\n",
    "    # Policy Evaluation\n",
    "    print(\"Evaluating Policy\")\n",
    "    valf = EvaluatePolicy(policy, valf, model, thresh, gamma)\n",
    "    valf_store.append(valf)\n",
    "\n",
    "    # Policy Improvement\n",
    "    print(\"Updating Policy\")\n",
    "    policy_stable = UpdatePolicy(policy, valf, model, gamma)\n",
    "    i += 1"
   ]
  },
  {
   "cell_type": "code",
   "execution_count": 7,
   "metadata": {},
   "outputs": [
    {
     "data": {
      "image/png": "[encoded data removed]",
      "text/plain": [
       "<Figure size 640x480 with 2 Axes>"
      ]
     },
     "metadata": {},
     "output_type": "display_data"
    }
   ],
   "source": [
    "import matplotlib.pyplot as plt\n",
    "\n",
    "valf_toplot = valf.reshape(rows, cols)\n",
    "plt.gca().invert_yaxis()\n",
    "heatmap = plt.imshow(valf_toplot)\n",
    "plt.colorbar(heatmap)\n",
    "plt.show()"
   ]
  },
  {
   "cell_type": "code",
   "execution_count": 8,
   "metadata": {},
   "outputs": [
    {
     "name": "stdout",
     "output_type": "stream",
     "text": [
      "(70, 11)\n"
     ]
    }
   ],
   "source": [
    "valf_store = np.array(valf_store)\n",
    "valf_store = valf_store.T\n",
    "print(valf_store.shape)"
   ]
  },
  {
   "cell_type": "code",
   "execution_count": 12,
   "metadata": {},
   "outputs": [
    {
     "name": "stdout",
     "output_type": "stream",
     "text": [
      "State: [3 0], Action: [1 1], Next State: [4 1], Reward: -1\n",
      "State: [4 1], Action: [1 1], Next State: [5 2], Reward: -1\n",
      "State: [5 2], Action: [1 1], Next State: [5 3], Reward: -1\n",
      "State: [5 3], Action: [1 1], Next State: [6 4], Reward: -1\n",
      "State: [6 4], Action: [0 1], Next State: [4 5], Reward: -1\n",
      "State: [4 5], Action: [1 1], Next State: [3 6], Reward: -1\n",
      "State: [3 6], Action: [1 1], Next State: [3 7], Reward: 0\n",
      "Game Over - Score: -6\n"
     ]
    }
   ],
   "source": [
    "agent = Agent(model, policy)\n",
    "path, score = agent.play(model, policy, np.array([3,0]), 1000)"
   ]
  },
  {
   "cell_type": "code",
   "execution_count": 13,
   "metadata": {},
   "outputs": [
    {
     "data": {
      "image/png": "[encoded data removed]",
      "text/plain": [
       "<Figure size 640x480 with 1 Axes>"
      ]
     },
     "metadata": {},
     "output_type": "display_data"
    }
   ],
   "source": [
    "path_plt = np.array(path) + 0.5\n",
    "y, x = path_plt.T\n",
    "\n",
    "ax = plt.gca()\n",
    "ax.grid()\n",
    "\n",
    "ax.set_xlim(0, cols)\n",
    "ax.set_xticks(np.arange(0, cols, 1), minor=False)\n",
    "ax.set_xticklabels([])\n",
    "ax.set_xticks(np.arange(0.5, cols, 1), minor=True)\n",
    "ax.set_xticklabels([str(x) for x in wind_col], minor=True)\n",
    "\n",
    "ax.set_ylim(rows, 0)\n",
    "ax.set_yticks(np.arange(0, rows, 1), minor=False)\n",
    "ax.set_yticklabels([])\n",
    "\n",
    "ax.plot(x, y)\n",
    "plt.show()"
   ]
  }
 ],
 "metadata": {
  "kernelspec": {
   "display_name": "base",
   "language": "python",
   "name": "python3"
  },
  "language_info": {
   "codemirror_mode": {
    "name": "ipython",
    "version": 3
   },
   "file_extension": ".py",
   "mimetype": "text/x-python",
   "name": "python",
   "nbconvert_exporter": "python",
   "pygments_lexer": "ipython3",
   "version": "3.11.5"
  }
 },
 "nbformat": 4,
 "nbformat_minor": 2
}
