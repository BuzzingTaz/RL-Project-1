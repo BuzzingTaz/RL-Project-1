{
 "cells": [
  {
   "cell_type": "code",
   "execution_count": 11,
   "metadata": {},
   "outputs": [],
   "source": [
    "import numpy as np\n",
    "from tqdm import tqdm\n",
    "import random\n",
    "from system import (\n",
    "    states,\n",
    "    s_state,\n",
    "    actions,\n",
    "    t_state, \n",
    "    wind_col,\n",
    "    num_states,\n",
    "    num_actions,\n",
    "    init_mdp,\n",
    "    init_reward,\n",
    "    to_idx,\n",
    "    get_valid_actions,\n",
    "    rows,\n",
    "    cols\n",
    ")\n",
    "from model import Model\n",
    "from policy import Policy, PolicyInit\n",
    "from agent import Agent"
   ]
  },
  {
   "cell_type": "code",
   "execution_count": 7,
   "metadata": {},
   "outputs": [],
   "source": [
    "def ch_egreedy(epsilon, Q, s):\n",
    "    p = np.zeros(num_actions)\n",
    "    valid_actions = get_valid_actions(s, idx=True)\n",
    "    va = len(valid_actions)\n",
    "    # print(va)\n",
    "    p[valid_actions] = epsilon / va\n",
    "\n",
    "    validqsa = Q[to_idx(s)][valid_actions]\n",
    "    p[valid_actions[np.argmax(validqsa)]] += 1 - epsilon\n",
    "    choice = np.random.choice(np.arange(num_actions), p=p)\n",
    "    return choice"
   ]
  },
  {
   "cell_type": "code",
   "execution_count": 4,
   "metadata": {},
   "outputs": [],
   "source": [
    "mdp = init_mdp(num_states, num_actions, wind_col)\n",
    "reward = init_reward(num_states, t_reward=100)\n",
    "\n",
    "model = Model(mdp, reward)\n",
    "\n",
    "policy = Policy(num_states, num_actions, PolicyInit.RANDOM)\n",
    "\n",
    "agent = Agent(model, policy)"
   ]
  },
  {
   "cell_type": "code",
   "execution_count": 8,
   "metadata": {},
   "outputs": [],
   "source": [
    "def Egreedy_geneps(T: int, eps, Q_val: np.ndarray, start_state: np.ndarray, model: Model):\n",
    "        estate = [start_state]\n",
    "        start_action = ch_egreedy(eps, Q_val, start_state)\n",
    "        eaction = [start_action]\n",
    "        ereward = [\n",
    "            model.get_reward(\n",
    "                start_state, model.gen_next(start_state, start_action)\n",
    "            )\n",
    "        ]\n",
    "        for i in range(T):\n",
    "            estate.append(model.gen_next(estate[-1], eaction[-1], astuple=True))\n",
    "            eaction.append(ch_egreedy(eps, Q_val, estate[-1]))\n",
    "            ereward.append(model.get_reward(estate[-2], estate[-1]))\n",
    "            if ereward[-1] == model.get_reward(estate[-2], t_state):\n",
    "                break\n",
    "        return estate, eaction, ereward"
   ]
  },
  {
   "cell_type": "code",
   "execution_count": 15,
   "metadata": {},
   "outputs": [
    {
     "name": "stderr",
     "output_type": "stream",
     "text": [
      "  0%|          | 1/1000 [00:01<19:11,  1.15s/it]C:\\Users\\ttaz7\\AppData\\Local\\Temp\\ipykernel_20060\\3142720599.py:31: RuntimeWarning: overflow encountered in scalar add\n",
      "  sv = sv * gamma * lambda_ + Q_val[to_idx(s)][a]\n",
      "C:\\Users\\ttaz7\\AppData\\Local\\Temp\\ipykernel_20060\\3142720599.py:33: RuntimeWarning: invalid value encountered in scalar subtract\n",
      "  Q_val[to_idx(s)][a] = Q_val[to_idx(s)][a] + alpha * (g - Q_val[to_idx(s)][a])\n",
      " 12%|█▏        | 122/1000 [02:15<16:18,  1.11s/it]\n"
     ]
    },
    {
     "ename": "KeyboardInterrupt",
     "evalue": "",
     "output_type": "error",
     "traceback": [
      "\u001b[1;31m---------------------------------------------------------------------------\u001b[0m",
      "\u001b[1;31mKeyboardInterrupt\u001b[0m                         Traceback (most recent call last)",
      "Cell \u001b[1;32mIn[15], line 18\u001b[0m\n\u001b[0;32m     16\u001b[0m state \u001b[38;5;241m=\u001b[39m s_state \n\u001b[0;32m     17\u001b[0m action \u001b[38;5;241m=\u001b[39m ch_egreedy(epsilon, Q_val, state)\n\u001b[1;32m---> 18\u001b[0m estates, eactions, erewards \u001b[38;5;241m=\u001b[39m \u001b[43mEgreedy_geneps\u001b[49m\u001b[43m(\u001b[49m\u001b[43mT\u001b[49m\u001b[43m,\u001b[49m\u001b[43m \u001b[49m\u001b[43mepsilon\u001b[49m\u001b[43m,\u001b[49m\u001b[43m \u001b[49m\u001b[43mQ_val\u001b[49m\u001b[43m,\u001b[49m\u001b[43m \u001b[49m\u001b[43mstate\u001b[49m\u001b[43m,\u001b[49m\u001b[43m \u001b[49m\u001b[43mmodel\u001b[49m\u001b[43m)\u001b[49m\n\u001b[0;32m     19\u001b[0m T \u001b[38;5;241m=\u001b[39m \u001b[38;5;28mlen\u001b[39m(erewards)\n\u001b[0;32m     21\u001b[0m sr \u001b[38;5;241m=\u001b[39m \u001b[38;5;241m0\u001b[39m\n",
      "Cell \u001b[1;32mIn[8], line 12\u001b[0m, in \u001b[0;36mEgreedy_geneps\u001b[1;34m(T, eps, Q_val, start_state, model)\u001b[0m\n\u001b[0;32m     10\u001b[0m \u001b[38;5;28;01mfor\u001b[39;00m i \u001b[38;5;129;01min\u001b[39;00m \u001b[38;5;28mrange\u001b[39m(T):\n\u001b[0;32m     11\u001b[0m     estate\u001b[38;5;241m.\u001b[39mappend(model\u001b[38;5;241m.\u001b[39mgen_next(estate[\u001b[38;5;241m-\u001b[39m\u001b[38;5;241m1\u001b[39m], eaction[\u001b[38;5;241m-\u001b[39m\u001b[38;5;241m1\u001b[39m], astuple\u001b[38;5;241m=\u001b[39m\u001b[38;5;28;01mTrue\u001b[39;00m))\n\u001b[1;32m---> 12\u001b[0m     eaction\u001b[38;5;241m.\u001b[39mappend(\u001b[43mch_egreedy\u001b[49m\u001b[43m(\u001b[49m\u001b[43meps\u001b[49m\u001b[43m,\u001b[49m\u001b[43m \u001b[49m\u001b[43mQ_val\u001b[49m\u001b[43m,\u001b[49m\u001b[43m \u001b[49m\u001b[43mestate\u001b[49m\u001b[43m[\u001b[49m\u001b[38;5;241;43m-\u001b[39;49m\u001b[38;5;241;43m1\u001b[39;49m\u001b[43m]\u001b[49m\u001b[43m)\u001b[49m)\n\u001b[0;32m     13\u001b[0m     ereward\u001b[38;5;241m.\u001b[39mappend(model\u001b[38;5;241m.\u001b[39mget_reward(estate[\u001b[38;5;241m-\u001b[39m\u001b[38;5;241m2\u001b[39m], estate[\u001b[38;5;241m-\u001b[39m\u001b[38;5;241m1\u001b[39m]))\n\u001b[0;32m     14\u001b[0m     \u001b[38;5;28;01mif\u001b[39;00m ereward[\u001b[38;5;241m-\u001b[39m\u001b[38;5;241m1\u001b[39m] \u001b[38;5;241m==\u001b[39m model\u001b[38;5;241m.\u001b[39mget_reward(estate[\u001b[38;5;241m-\u001b[39m\u001b[38;5;241m2\u001b[39m], t_state):\n",
      "Cell \u001b[1;32mIn[7], line 10\u001b[0m, in \u001b[0;36mch_egreedy\u001b[1;34m(epsilon, Q, s)\u001b[0m\n\u001b[0;32m      8\u001b[0m validqsa \u001b[38;5;241m=\u001b[39m Q[to_idx(s)][valid_actions]\n\u001b[0;32m      9\u001b[0m p[valid_actions[np\u001b[38;5;241m.\u001b[39margmax(validqsa)]] \u001b[38;5;241m+\u001b[39m\u001b[38;5;241m=\u001b[39m \u001b[38;5;241m1\u001b[39m \u001b[38;5;241m-\u001b[39m epsilon\n\u001b[1;32m---> 10\u001b[0m choice \u001b[38;5;241m=\u001b[39m np\u001b[38;5;241m.\u001b[39mrandom\u001b[38;5;241m.\u001b[39mchoice(np\u001b[38;5;241m.\u001b[39marange(num_actions), p\u001b[38;5;241m=\u001b[39mp)\n\u001b[0;32m     11\u001b[0m \u001b[38;5;28;01mreturn\u001b[39;00m choice\n",
      "\u001b[1;31mKeyboardInterrupt\u001b[0m: "
     ]
    }
   ],
   "source": [
    "Q_val = np.random.uniform(-10, -1, (num_states, num_actions))\n",
    "for a in range(num_actions):\n",
    "    Q_val[37][a] = 0\n",
    "# Q_val = np.zeros((num_states, num_actions))\n",
    "returns = [[[] for a in range(num_actions)] for s in range(num_states)]\n",
    "# valf_list = [(np.max(Q_val, axis=1))]\n",
    "\n",
    "\n",
    "T = 10000\n",
    "gamma = 0.9\n",
    "alpha = 0.1\n",
    "epsilon = 0.1\n",
    "lambda_ = 0.9\n",
    "for i in tqdm(range(1000)):\n",
    "    # start_state = 30\n",
    "    state = s_state \n",
    "    action = ch_egreedy(epsilon, Q_val, state)\n",
    "    estates, eactions, erewards = Egreedy_geneps(T, epsilon, Q_val, state, model)\n",
    "    T = len(erewards)\n",
    "    \n",
    "    sr = 0\n",
    "    sv = 0\n",
    "    g = 0\n",
    "    pwl = lambda_\n",
    "    for j in range(T-1):\n",
    "        # s = tuple(estates[T - j - 1])\n",
    "        s = estates[T - j - 1]\n",
    "        a = eactions[T - j - 1]\n",
    "        r = erewards[T - j - 1]\n",
    "        sr = sr * lambda_ + r*(1 - pwl)\n",
    "        sv = sv * gamma * lambda_ + Q_val[to_idx(s)][a]\n",
    "        g = sr + gamma*sv\n",
    "        Q_val[to_idx(s)][a] = Q_val[to_idx(s)][a] + alpha * (g - Q_val[to_idx(s)][a])\n",
    "        pwl = pwl * lambda_"
   ]
  },
  {
   "cell_type": "code",
   "execution_count": null,
   "metadata": {},
   "outputs": [],
   "source": [
    "valf = valf_list[-1]"
   ]
  },
  {
   "cell_type": "code",
   "execution_count": null,
   "metadata": {},
   "outputs": [],
   "source": [
    "import matplotlib.pyplot as plt\n",
    "valf_toplot = valf.reshape(rows, cols)\n",
    "plt.gca().invert_yaxis()\n",
    "heatmap = plt.imshow(valf_toplot)\n",
    "plt.colorbar(heatmap)\n",
    "plt.show()"
   ]
  },
  {
   "cell_type": "code",
   "execution_count": null,
   "metadata": {},
   "outputs": [],
   "source": [
    "# Run agent\n",
    "score = 0\n",
    "steps = 0\n",
    "s = np.array([3,0])\n",
    "\n",
    "path = [s]\n",
    "\n",
    "while(steps < 1000):\n",
    "    a = policy.get_action(s)\n",
    "\n",
    "    s_ = model.gen_next(s, a)\n",
    "    path.append(s_)\n",
    "\n",
    "    r = model.get_reward(s, s_)\n",
    "    score += r\n",
    "    print(f\"State: {s}, Action: {actions[a]}, Next State: {s_}, Reward: {r}\")\n",
    "\n",
    "    if(r!= -1):\n",
    "        print(f\"Game Over - Score: {score}\")\n",
    "        break\n",
    "    \n",
    "    s = s_\n",
    "    steps += 1"
   ]
  },
  {
   "cell_type": "code",
   "execution_count": null,
   "metadata": {},
   "outputs": [],
   "source": [
    "path_plt = np.array(path) + 0.5\n",
    "y, x = path_plt.T\n",
    "\n",
    "ax = plt.gca()\n",
    "ax.grid()\n",
    "\n",
    "ax.set_xlim(0, cols)\n",
    "ax.set_xticks(np.arange(0, cols, 1), minor=False)\n",
    "ax.set_xticklabels([])\n",
    "ax.set_xticks(np.arange(0.5, cols, 1), minor=True)\n",
    "ax.set_xticklabels([str(x) for x in wind_col], minor=True)\n",
    "\n",
    "ax.set_ylim(rows, 0)\n",
    "ax.set_yticks(np.arange(0, rows, 1), minor=False)\n",
    "ax.set_yticklabels([])\n",
    "\n",
    "ax.plot(x, y)\n",
    "plt.show()"
   ]
  }
 ],
 "metadata": {
  "kernelspec": {
   "display_name": "Python 3",
   "language": "python",
   "name": "python3"
  },
  "language_info": {
   "codemirror_mode": {
    "name": "ipython",
    "version": 3
   },
   "file_extension": ".py",
   "mimetype": "text/x-python",
   "name": "python",
   "nbconvert_exporter": "python",
   "pygments_lexer": "ipython3",
   "version": "3.11.5"
  }
 },
 "nbformat": 4,
 "nbformat_minor": 2
}
