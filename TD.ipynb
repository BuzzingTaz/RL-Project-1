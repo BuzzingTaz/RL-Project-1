{
 "cells": [
  {
   "cell_type": "code",
   "execution_count": 6,
   "metadata": {},
   "outputs": [],
   "source": [
    "import numpy as np\n",
    "from tqdm import tqdm\n",
    "import random\n",
    "from system import (\n",
    "    states,\n",
    "    s_state,\n",
    "    actions,\n",
    "    t_state, \n",
    "    wind_col,\n",
    "    num_states,\n",
    "    num_actions,\n",
    "    init_mdp,\n",
    "    init_reward,\n",
    "    to_idx,\n",
    "    get_valid_actions,\n",
    "    rows,\n",
    "    cols\n",
    ")\n",
    "from model import Model\n",
    "from policy import Policy, PolicyInit\n",
    "from agent import Agent"
   ]
  },
  {
   "cell_type": "code",
   "execution_count": 7,
   "metadata": {},
   "outputs": [],
   "source": [
    "def ch_egreedy(epsilon, Q, s):\n",
    "    p = np.zeros(num_actions)\n",
    "    valid_actions = get_valid_actions(s, idx=True)\n",
    "    va = len(valid_actions)\n",
    "    # print(va)\n",
    "    p[valid_actions] = epsilon / va\n",
    "\n",
    "    validqsa = Q[to_idx(s)][valid_actions]\n",
    "    p[valid_actions[np.argmax(validqsa)]] += 1 - epsilon\n",
    "    choice = np.random.choice(np.arange(num_actions), p=p)\n",
    "    return choice"
   ]
  },
  {
   "cell_type": "code",
   "execution_count": 8,
   "metadata": {},
   "outputs": [],
   "source": [
    "mdp = init_mdp(num_states, num_actions, wind_col)\n",
    "reward = init_reward(num_states, t_reward=0)\n",
    "\n",
    "model = Model(mdp, reward)\n",
    "\n",
    "policy = Policy(num_states, num_actions, PolicyInit.RANDOM)\n",
    "\n",
    "agent = Agent(model, policy)"
   ]
  },
  {
   "cell_type": "code",
   "execution_count": 9,
   "metadata": {},
   "outputs": [],
   "source": [
    "def Egreedy_geneps(T: int, eps, Q_val: np.ndarray, start_state: np.ndarray, model: Model):\n",
    "        estate = [start_state]\n",
    "        start_action = ch_egreedy(eps, Q_val, start_state)\n",
    "        eaction = [start_action]\n",
    "        ereward = [\n",
    "            model.get_reward(\n",
    "                start_state, model.gen_next(start_state, start_action)\n",
    "            )\n",
    "        ]\n",
    "        for i in range(T):\n",
    "            estate.append(model.gen_next(estate[-1], eaction[-1], astuple=True))\n",
    "            eaction.append(ch_egreedy(eps, Q_val, estate[-1]))\n",
    "            ereward.append(model.get_reward(estate[-2], estate[-1]))\n",
    "            if ereward[-1] == model.get_reward(estate[-2], t_state):\n",
    "                break\n",
    "        return estate, eaction, ereward"
   ]
  },
  {
   "cell_type": "code",
   "execution_count": 10,
   "metadata": {},
   "outputs": [
    {
     "name": "stderr",
     "output_type": "stream",
     "text": [
      "  0%|          | 0/1000 [00:00<?, ?it/s]"
     ]
    },
    {
     "name": "stderr",
     "output_type": "stream",
     "text": [
      "100%|██████████| 1000/1000 [01:55<00:00,  8.66it/s]\n"
     ]
    }
   ],
   "source": [
    "Q_val = np.random.uniform(-10, -1, (num_states, num_actions))\n",
    "Q_val[to_idx(t_state)][:] = 0\n",
    "\n",
    "Ts = 100\n",
    "gamma = 0.9\n",
    "alpha = 0.1\n",
    "epsilon = 0.3\n",
    "lambda_ = 0.2\n",
    "for i in tqdm(range(1000)):\n",
    "    state = s_state \n",
    "    while True:\n",
    "        estates, eactions, erewards = Egreedy_geneps(Ts, epsilon, Q_val, state, model)\n",
    "        T = len(erewards)\n",
    "        \n",
    "        sr = 0\n",
    "        sv = 0\n",
    "        g = 0\n",
    "        pwl = lambda_**2\n",
    "        for j in range(1, T):\n",
    "            # s = tuple(estates[T - j - 1])\n",
    "            s = estates[T - j - 1]\n",
    "            a = eactions[T - j - 1]\n",
    "            r = erewards[T - j - 1]\n",
    "            ns = estates[T - j]\n",
    "            na = eactions[T - j]\n",
    "            sr = sr * lambda_ + r*(1 - pwl)\n",
    "            # print(sv * gamma * lambda_ + Q_val[to_idx(s)][a])\n",
    "            sv = sv * gamma * lambda_ + Q_val[to_idx(ns)][na]\n",
    "            g = sr + gamma*(1 - lambda_)*sv\n",
    "            Q_val[to_idx(s)][a] = Q_val[to_idx(s)][a] + alpha * (g - Q_val[to_idx(s)][a])\n",
    "            pwl = pwl * lambda_\n",
    "\n",
    "        \n",
    "        state = estates[1]\n",
    "        if (state == t_state).all():\n",
    "            break\n"
   ]
  },
  {
   "cell_type": "code",
   "execution_count": 11,
   "metadata": {},
   "outputs": [],
   "source": [
    "valf = []\n",
    "for s in states:\n",
    "    valid_actions = get_valid_actions(s, idx=True)\n",
    "    valf.append(np.max(Q_val[to_idx(s)][valid_actions]))\n",
    "valf = np.array(valf)\n",
    "\n",
    "for s in states: \n",
    "    valid_actions = get_valid_actions(s, idx=True)\n",
    "    action = valid_actions[np.argmax(Q_val[to_idx(s)][valid_actions])]\n",
    "    policy.set_action(s, action)\n",
    "agent.change_policy(policy)"
   ]
  },
  {
   "cell_type": "code",
   "execution_count": 12,
   "metadata": {},
   "outputs": [
    {
     "data": {
      "image/png": "[encoded data removed]",
      "text/plain": [
       "<Figure size 640x480 with 2 Axes>"
      ]
     },
     "metadata": {},
     "output_type": "display_data"
    }
   ],
   "source": [
    "import matplotlib.pyplot as plt\n",
    "valf_toplot = valf.reshape(rows, cols)\n",
    "plt.gca().invert_yaxis()\n",
    "heatmap = plt.imshow(valf_toplot)\n",
    "plt.colorbar(heatmap)\n",
    "plt.show()"
   ]
  },
  {
   "cell_type": "code",
   "execution_count": 15,
   "metadata": {},
   "outputs": [
    {
     "name": "stdout",
     "output_type": "stream",
     "text": [
      "State: [3 0], Action: [1 1], Next State: [4 1], Reward: -1\n",
      "State: [4 1], Action: [1 1], Next State: [5 2], Reward: -1\n",
      "State: [5 2], Action: [1 1], Next State: [4 3], Reward: -1\n",
      "State: [4 3], Action: [1 1], Next State: [3 4], Reward: -1\n",
      "State: [3 4], Action: [1 1], Next State: [4 5], Reward: -1\n",
      "State: [4 5], Action: [1 1], Next State: [3 6], Reward: -1\n",
      "State: [3 6], Action: [1 1], Next State: [3 7], Reward: 0\n",
      "Game Over - Score: -6\n"
     ]
    }
   ],
   "source": [
    "path, score = agent.play(model, policy, np.array([3,0]), 1000)"
   ]
  },
  {
   "cell_type": "code",
   "execution_count": 16,
   "metadata": {},
   "outputs": [
    {
     "data": {
      "image/png": "[encoded data removed]",
      "text/plain": [
       "<Figure size 640x480 with 1 Axes>"
      ]
     },
     "metadata": {},
     "output_type": "display_data"
    }
   ],
   "source": [
    "path_plt = np.array(path) + 0.5\n",
    "y, x = path_plt.T\n",
    "\n",
    "ax = plt.gca()\n",
    "ax.grid()\n",
    "\n",
    "ax.set_xlim(0, cols)\n",
    "ax.set_xticks(np.arange(0, cols, 1), minor=False)\n",
    "ax.set_xticklabels([])\n",
    "ax.set_xticks(np.arange(0.5, cols, 1), minor=True)\n",
    "ax.set_xticklabels([str(x) for x in wind_col], minor=True)\n",
    "\n",
    "ax.set_ylim(rows, 0)\n",
    "ax.set_yticks(np.arange(0, rows, 1), minor=False)\n",
    "ax.set_yticklabels([])\n",
    "\n",
    "ax.plot(x, y)\n",
    "plt.show()"
   ]
  }
 ],
 "metadata": {
  "kernelspec": {
   "display_name": "Python 3",
   "language": "python",
   "name": "python3"
  },
  "language_info": {
   "codemirror_mode": {
    "name": "ipython",
    "version": 3
   },
   "file_extension": ".py",
   "mimetype": "text/x-python",
   "name": "python",
   "nbconvert_exporter": "python",
   "pygments_lexer": "ipython3",
   "version": "3.10.9"
  }
 },
 "nbformat": 4,
 "nbformat_minor": 2
}
