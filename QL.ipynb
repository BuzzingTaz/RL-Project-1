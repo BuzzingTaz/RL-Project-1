{
 "cells": [
  {
   "cell_type": "code",
   "execution_count": 13,
   "metadata": {},
   "outputs": [],
   "source": [
    "import numpy as np\n",
    "from tqdm import tqdm\n",
    "import random\n",
    "from system import (\n",
    "    states,\n",
    "    actions, \n",
    "    wind_col,\n",
    "    num_states,\n",
    "    num_actions,\n",
    "    init_mdp,\n",
    "    init_reward,\n",
    "    to_idx,\n",
    "    to_state,\n",
    "    get_valid_actions,\n",
    "    gen_random_sa,\n",
    "    rows,\n",
    "    cols\n",
    ")\n",
    "from model import Model\n",
    "from policy import Policy, PolicyInit\n",
    "from agent import Agent"
   ]
  },
  {
   "cell_type": "code",
   "execution_count": 15,
   "metadata": {},
   "outputs": [],
   "source": [
    "def ch_egreedy(epsilon, Q, s):\n",
    "    p = np.zeros(num_actions)\n",
    "    valid_actions = get_valid_actions(to_state(s), idx=True)\n",
    "    va = len(valid_actions)\n",
    "    # print(va)\n",
    "    p[valid_actions] = epsilon / va\n",
    "    validqsa = Q[s][valid_actions]\n",
    "    p[valid_actions[np.argmax(validqsa)]] += 1 - epsilon\n",
    "    choice = np.random.choice(np.arange(num_actions), p=p)\n",
    "    return choice"
   ]
  },
  {
   "cell_type": "code",
   "execution_count": 14,
   "metadata": {},
   "outputs": [],
   "source": [
    "mdp = init_mdp(num_states, num_actions, wind_col)\n",
    "reward = init_reward(num_states, t_reward=100)\n",
    "\n",
    "model = Model(mdp, reward)\n",
    "\n",
    "policy = Policy(num_states, num_actions, PolicyInit.RANDOM)\n",
    "\n",
    "agent = Agent(model, policy)"
   ]
  },
  {
   "cell_type": "code",
   "execution_count": 16,
   "metadata": {},
   "outputs": [
    {
     "name": "stderr",
     "output_type": "stream",
     "text": [
      "100%|██████████| 1000/1000 [01:53<00:00,  8.79it/s]\n"
     ]
    }
   ],
   "source": [
    "Q_val = np.random.uniform(-10, 0, (num_states, num_actions))\n",
    "# for a in range(num_actions):\n",
    "#     Q_val[37][a] = 0\n",
    "# Q_val = np.zeros((num_states, num_actions))\n",
    "returns = [[[] for a in range(num_actions)] for s in range(num_states)]\n",
    "# valf_list = [(np.max(Q_val, axis=1))]\n",
    "\n",
    "i = 0\n",
    "T = 100\n",
    "gamma = 0.9\n",
    "alpha = 0.1\n",
    "epsilon = 0.9\n",
    "for i in tqdm(range(1000)):\n",
    "    start_state = random.randint(0, num_states-1)\n",
    "    state = start_state\n",
    "    while True:\n",
    "        action = ch_egreedy(epsilon, Q_val, state)\n",
    "        nstate = model.gen_next(to_state(state), action)\n",
    "        r = model.get_reward(to_state(state), nstate)\n",
    "        valid_actions = get_valid_actions(nstate, idx=True)\n",
    "        validqsa = Q_val[to_idx(nstate)][valid_actions]\n",
    "        nmax= np.max(validqsa)\n",
    "        Q_val[state][action] = Q_val[state][action] + alpha * ((r + gamma * nmax) - Q_val[state][action])\n",
    "        if state == 37:\n",
    "            break\n",
    "        state = to_idx(nstate)"
   ]
  },
  {
   "cell_type": "code",
   "execution_count": 28,
   "metadata": {},
   "outputs": [],
   "source": [
    "valf = np.max(Q_val, axis=1)\n",
    "for s in range(num_states):\n",
    "    valid_actions = get_valid_actions(to_state(s), idx=True)\n",
    "    action = valid_actions[np.argmax(Q_val[s][valid_actions])]\n",
    "    policy.set_action(to_state(s), action)\n",
    "agent.change_policy(policy)"
   ]
  },
  {
   "cell_type": "code",
   "execution_count": 29,
   "metadata": {},
   "outputs": [
    {
     "data": {
      "image/png": "[encoded data removed]",
      "text/plain": [
       "<Figure size 640x480 with 2 Axes>"
      ]
     },
     "metadata": {},
     "output_type": "display_data"
    }
   ],
   "source": [
    "import matplotlib.pyplot as plt\n",
    "valf_toplot = valf.reshape(rows, cols)\n",
    "plt.gca().invert_yaxis()\n",
    "heatmap = plt.imshow(valf_toplot)\n",
    "plt.colorbar(heatmap)\n",
    "plt.show()"
   ]
  },
  {
   "cell_type": "code",
   "execution_count": 30,
   "metadata": {},
   "outputs": [
    {
     "name": "stdout",
     "output_type": "stream",
     "text": [
      "State: [3 0], Action: [0 1], Next State: [3 1], Reward: -1\n",
      "State: [3 1], Action: [0 1], Next State: [3 2], Reward: -1\n",
      "State: [3 2], Action: [1 1], Next State: [4 3], Reward: -1\n",
      "State: [4 3], Action: [0 1], Next State: [3 4], Reward: -1\n",
      "State: [3 4], Action: [1 1], Next State: [2 5], Reward: -1\n",
      "State: [2 5], Action: [1 0], Next State: [3 5], Reward: -1\n",
      "State: [3 5], Action: [1 1], Next State: [3 6], Reward: -1\n",
      "State: [3 6], Action: [1 1], Next State: [3 7], Reward: 100\n",
      "Game Over - Score: 93\n"
     ]
    }
   ],
   "source": [
    "path, score = agent.play(model, policy, np.array([3,0]), 1000)"
   ]
  },
  {
   "cell_type": "code",
   "execution_count": 31,
   "metadata": {},
   "outputs": [
    {
     "data": {
      "image/png": "[encoded data removed]",
      "text/plain": [
       "<Figure size 640x480 with 1 Axes>"
      ]
     },
     "metadata": {},
     "output_type": "display_data"
    }
   ],
   "source": [
    "path_plt = np.array(path) + 0.5\n",
    "y, x = path_plt.T\n",
    "\n",
    "ax = plt.gca()\n",
    "ax.grid()\n",
    "\n",
    "ax.set_xlim(0, cols)\n",
    "ax.set_xticks(np.arange(0, cols, 1), minor=False)\n",
    "ax.set_xticklabels([])\n",
    "ax.set_xticks(np.arange(0.5, cols, 1), minor=True)\n",
    "ax.set_xticklabels([str(x) for x in wind_col], minor=True)\n",
    "\n",
    "ax.set_ylim(rows, 0)\n",
    "ax.set_yticks(np.arange(0, rows, 1), minor=False)\n",
    "ax.set_yticklabels([])\n",
    "\n",
    "ax.plot(x, y)\n",
    "plt.show()"
   ]
  }
 ],
 "metadata": {
  "kernelspec": {
   "display_name": "Python 3",
   "language": "python",
   "name": "python3"
  },
  "language_info": {
   "codemirror_mode": {
    "name": "ipython",
    "version": 3
   },
   "file_extension": ".py",
   "mimetype": "text/x-python",
   "name": "python",
   "nbconvert_exporter": "python",
   "pygments_lexer": "ipython3",
   "version": "3.10.9"
  }
 },
 "nbformat": 4,
 "nbformat_minor": 2
}
