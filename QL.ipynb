{
 "cells": [
  {
   "cell_type": "code",
   "execution_count": 1,
   "metadata": {},
   "outputs": [],
   "source": [
    "import numpy as np\n",
    "from tqdm import tqdm\n",
    "import random\n",
    "from system import (\n",
    "    s_state,\n",
    "    t_state,\n",
    "    states,\n",
    "    wind_col,\n",
    "    num_states,\n",
    "    num_actions,\n",
    "    init_mdp,\n",
    "    init_reward,\n",
    "    to_idx,\n",
    "    get_valid_actions,\n",
    "    rows,\n",
    "    cols,\n",
    ")\n",
    "from model import Model\n",
    "from policy import Policy, PolicyInit\n",
    "from agent import Agent"
   ]
  },
  {
   "cell_type": "code",
   "execution_count": 2,
   "metadata": {},
   "outputs": [],
   "source": [
    "def ch_egreedy(epsilon, Q, s):\n",
    "    p = np.zeros(num_actions)\n",
    "    valid_actions = get_valid_actions(s, idx=True)\n",
    "    va = len(valid_actions)\n",
    "    # print(va)\n",
    "    p[valid_actions] = epsilon / va\n",
    "\n",
    "    validqsa = Q[to_idx(s)][valid_actions]\n",
    "    p[valid_actions[np.argmax(validqsa)]] += 1 - epsilon\n",
    "    choice = np.random.choice(np.arange(num_actions), p=p)\n",
    "    return choice"
   ]
  },
  {
   "cell_type": "code",
   "execution_count": 3,
   "metadata": {},
   "outputs": [],
   "source": [
    "mdp = init_mdp(num_states, num_actions, wind_col)\n",
    "reward = init_reward(num_states, t_reward=0)\n",
    "\n",
    "model = Model(mdp, reward)\n",
    "\n",
    "policy = Policy(num_states, num_actions, PolicyInit.RANDOM)\n",
    "\n",
    "agent = Agent(model, policy)"
   ]
  },
  {
   "cell_type": "code",
   "execution_count": 4,
   "metadata": {},
   "outputs": [
    {
     "name": "stderr",
     "output_type": "stream",
     "text": [
      "100%|██████████| 10000/10000 [00:29<00:00, 344.49it/s]\n"
     ]
    }
   ],
   "source": [
    "Q_val = np.random.uniform(-10, -1, (num_states, num_actions))\n",
    "Q_val[to_idx(t_state)][:] = 0\n",
    "\n",
    "\n",
    "gamma = 0.9\n",
    "alpha = 0.1\n",
    "epsilon = 0.1\n",
    "for i in tqdm(range(10000)):\n",
    "    state = s_state\n",
    "    while True:\n",
    "        action = ch_egreedy(epsilon, Q_val, state)\n",
    "\n",
    "        nstate = model.gen_next(state, action)\n",
    "\n",
    "        r = model.get_reward(state, nstate)\n",
    "\n",
    "        valid_actions = get_valid_actions(nstate, idx=True)\n",
    "\n",
    "        validqsa = Q_val[to_idx(nstate)][valid_actions]\n",
    "\n",
    "        nmax = np.max(validqsa)\n",
    "        Q_val[to_idx(state)][action] = Q_val[to_idx(state)][action] + alpha * (\n",
    "            (r + gamma * nmax) - Q_val[to_idx(state)][action]\n",
    "        )\n",
    "\n",
    "        state = nstate\n",
    "        if (state == t_state).all():\n",
    "            break"
   ]
  },
  {
   "cell_type": "code",
   "execution_count": 14,
   "metadata": {},
   "outputs": [],
   "source": [
    "valf = []\n",
    "for s in states:\n",
    "    valid_actions = get_valid_actions(s, idx=True)\n",
    "    valf.append(np.max(Q_val[to_idx(s)][valid_actions]))\n",
    "valf = np.array(valf)\n",
    "\n",
    "for s in states: \n",
    "    valid_actions = get_valid_actions(s, idx=True)\n",
    "    action = valid_actions[np.argmax(Q_val[to_idx(s)][valid_actions])]\n",
    "    policy.set_action(s, action)\n",
    "agent.change_policy(policy)"
   ]
  },
  {
   "cell_type": "code",
   "execution_count": 15,
   "metadata": {},
   "outputs": [
    {
     "data": {
      "image/png": "[encoded data removed]",
      "text/plain": [
       "<Figure size 640x480 with 2 Axes>"
      ]
     },
     "metadata": {},
     "output_type": "display_data"
    }
   ],
   "source": [
    "import matplotlib.pyplot as plt\n",
    "valf_toplot = valf.reshape(rows, cols)\n",
    "plt.gca().invert_yaxis()\n",
    "heatmap = plt.imshow(valf_toplot)\n",
    "plt.colorbar(heatmap)\n",
    "plt.show()"
   ]
  },
  {
   "cell_type": "code",
   "execution_count": 18,
   "metadata": {},
   "outputs": [
    {
     "name": "stdout",
     "output_type": "stream",
     "text": [
      "State: [3 0], Action: [1 1], Next State: [4 1], Reward: -1\n",
      "State: [4 1], Action: [1 1], Next State: [5 2], Reward: -1\n",
      "State: [5 2], Action: [1 1], Next State: [6 3], Reward: -1\n",
      "State: [6 3], Action: [0 1], Next State: [5 4], Reward: -1\n",
      "State: [5 4], Action: [1 1], Next State: [5 5], Reward: -1\n",
      "State: [5 5], Action: [1 1], Next State: [4 6], Reward: -1\n",
      "State: [4 6], Action: [1 1], Next State: [3 7], Reward: 0\n",
      "Game Over - Score: -6\n"
     ]
    }
   ],
   "source": [
    "path, score = agent.play(model, policy, np.array([3,0]), 1000)"
   ]
  },
  {
   "cell_type": "code",
   "execution_count": 19,
   "metadata": {},
   "outputs": [
    {
     "data": {
      "image/png": "[encoded data removed]",
      "text/plain": [
       "<Figure size 640x480 with 1 Axes>"
      ]
     },
     "metadata": {},
     "output_type": "display_data"
    }
   ],
   "source": [
    "path_plt = np.array(path) + 0.5\n",
    "y, x = path_plt.T\n",
    "\n",
    "ax = plt.gca()\n",
    "ax.grid()\n",
    "\n",
    "ax.set_xlim(0, cols)\n",
    "ax.set_xticks(np.arange(0, cols, 1), minor=False)\n",
    "ax.set_xticklabels([])\n",
    "ax.set_xticks(np.arange(0.5, cols, 1), minor=True)\n",
    "ax.set_xticklabels([str(x) for x in wind_col], minor=True)\n",
    "\n",
    "ax.set_ylim(rows, 0)\n",
    "ax.set_yticks(np.arange(0, rows, 1), minor=False)\n",
    "ax.set_yticklabels([])\n",
    "\n",
    "ax.plot(x, y)\n",
    "plt.show()"
   ]
  }
 ],
 "metadata": {
  "kernelspec": {
   "display_name": "Python 3",
   "language": "python",
   "name": "python3"
  },
  "language_info": {
   "codemirror_mode": {
    "name": "ipython",
    "version": 3
   },
   "file_extension": ".py",
   "mimetype": "text/x-python",
   "name": "python",
   "nbconvert_exporter": "python",
   "pygments_lexer": "ipython3",
   "version": "3.11.5"
  }
 },
 "nbformat": 4,
 "nbformat_minor": 2
}
